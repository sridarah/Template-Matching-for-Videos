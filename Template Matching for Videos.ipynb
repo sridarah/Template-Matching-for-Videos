{
 "cells": [
  {
   "cell_type": "code",
   "execution_count": 1,
   "metadata": {
    "collapsed": true
   },
   "outputs": [],
   "source": [
    "# Below code will generate video containing results of template matching \n",
    "# Inspired from https://gist.github.com/tonmoay/f9c1710d6eb47cd78290377ff2f61887"
   ]
  },
  {
   "cell_type": "code",
   "execution_count": 2,
   "metadata": {
    "collapsed": true
   },
   "outputs": [],
   "source": [
    "# Libraries\n",
    "import cv2\n",
    "from matplotlib import pyplot as plt\n",
    "import numpy as np\n",
    "from moviepy.editor import *"
   ]
  },
  {
   "cell_type": "code",
   "execution_count": 3,
   "metadata": {
    "collapsed": true
   },
   "outputs": [],
   "source": [
    "cap = cv2.VideoCapture(\"Input.mp4\") # O for Webcam Capture\n",
    "template_lab = ['Wall-E','Eva'] # Labels for the template images\n",
    "height =  cap.get(3)\n",
    "width =  cap.get(4)\n",
    "layers =  6"
   ]
  },
  {
   "cell_type": "code",
   "execution_count": 4,
   "metadata": {},
   "outputs": [
    {
     "name": "stdout",
     "output_type": "stream",
     "text": [
      "Total Frames:  176\n",
      "Processing...\n",
      "Finished!\n"
     ]
    }
   ],
   "source": [
    "clips = []\n",
    "j = 1\n",
    "threshold = 0.7 # For template Matching\n",
    "no_templates=2 # Number of template images\n",
    "print('Total Frames: ',int(cap.get(cv2.CAP_PROP_FRAME_COUNT)))\n",
    "print('Processing...')\n",
    "while(True):\n",
    "\n",
    "\tret, frame = cap.read()\n",
    "\tif frame is None:\n",
    "\t\tbreak\n",
    "\tgray = cv2.cvtColor(frame, cv2.COLOR_BGR2GRAY,0)\n",
    "\tfor i in range(no_templates):\n",
    "        # Template file names should be like template0.png\n",
    "\t\ttemplate = cv2.imread('templates/template'+str(i)+'.png',0)\n",
    "\t\tw, h = template.shape[::-1]\n",
    "        \n",
    "        # Following function can be changed according to applications\n",
    "\t\tres = cv2.matchTemplate(gray,template,cv2.TM_CCOEFF_NORMED)\n",
    "\t\t# Other choices for template matching are \n",
    "\t\t# cv2.TM_CCOEFF, cv2.TM_CCOEFF_NORMED, cv2.TM_CCORR, cv2.TM_CCORR_NORMED\n",
    "\t\t# cv2.TM_SQDIFF, cv2.TM_SQDIFF_NORMED, cv2.TM_SQDIFF_NORMED\n",
    "\t\t# More info at https://docs.opencv.org/3.0-beta/doc/py_tutorials/py_imgproc/py_template_matching/py_template_matching.html\n",
    "\t\tloc = np.where( res >= threshold)\n",
    "\t\t\n",
    "\t\tfor pt in zip(*loc[::-1]):\n",
    "\t\t\tcv2.rectangle(frame, pt, (pt[0] + w, pt[1] + h), (0,255,255), 2)\n",
    "\t\t\tcv2.putText(frame,str(template_lab[i]), (pt[0],pt[1]-10), \n",
    "\t\t\t\tcv2.FONT_HERSHEY_PLAIN, 2.0, (255,255,255))\n",
    "\tframe = cv2.cvtColor(frame, cv2.COLOR_BGR2RGB)\n",
    "\tclips.append(ImageClip(frame).set_duration(0.08)) # Appending frames for video generation\n",
    "\n",
    "\tif cv2.waitKey(1) & 0xFF == ord('q'):\n",
    "\t\tbreak\n",
    "\n",
    "cap.release()\n",
    "cv2.destroyAllWindows()\n",
    "print('Finished!')"
   ]
  },
  {
   "cell_type": "code",
   "execution_count": 5,
   "metadata": {},
   "outputs": [
    {
     "name": "stdout",
     "output_type": "stream",
     "text": [
      "[MoviePy] >>>> Building video Output.mp4\n",
      "[MoviePy] Writing video Output.mp4\n"
     ]
    },
    {
     "name": "stderr",
     "output_type": "stream",
     "text": [
      "100%|███████████████████████████████████████████████████████████████████████████████| 423/423 [00:03<00:00, 116.77it/s]\n"
     ]
    },
    {
     "name": "stdout",
     "output_type": "stream",
     "text": [
      "[MoviePy] Done.\n",
      "[MoviePy] >>>> Video ready: Output.mp4 \n",
      "\n",
      "Video Generated!\n"
     ]
    }
   ],
   "source": [
    "# Video Generation\n",
    "concat_clip = concatenate_videoclips(clips, method=\"compose\")\n",
    "concat_clip.write_videofile(\"Output.mp4\", fps=30)\n",
    "print(\"Video Generated!\")"
   ]
  }
 ],
 "metadata": {
  "kernelspec": {
   "display_name": "Python 3",
   "language": "python",
   "name": "python3"
  },
  "language_info": {
   "codemirror_mode": {
    "name": "ipython",
    "version": 3
   },
   "file_extension": ".py",
   "mimetype": "text/x-python",
   "name": "python",
   "nbconvert_exporter": "python",
   "pygments_lexer": "ipython3",
   "version": "3.6.1"
  }
 },
 "nbformat": 4,
 "nbformat_minor": 2
}
